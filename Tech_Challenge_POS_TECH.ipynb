{
 "cells": [
  {
   "cell_type": "markdown",
   "metadata": {
    "application/vnd.databricks.v1+cell": {
     "cellMetadata": {},
     "inputWidgets": {},
     "nuid": "26d48b7e-87bf-4e92-9200-521fc6a6bf79",
     "showTitle": false,
     "title": ""
    }
   },
   "source": [
    "# Entregavel PosTech IA para DEV\n",
    "\n",
    "Fase 01\n",
    "\n",
    "Jose Carlos Batista - RM356913"
   ]
  },
  {
   "cell_type": "markdown",
   "metadata": {
    "application/vnd.databricks.v1+cell": {
     "cellMetadata": {},
     "inputWidgets": {},
     "nuid": "fb81d154-5463-4993-a84d-5b125fa9be3f",
     "showTitle": false,
     "title": ""
    }
   },
   "source": [
    "\n",
    "## Objetivo:\n",
    "\n",
    "Você é um profissional encarregado de desenvolver um modelo preditivo de regressão para prever o valor dos custos médicos individuaus cobrados pelo seguro de saúde.\n",
    "\n",
    "A base de dados para este desafio pode ser algo como no exemplo a seguir:\n",
    "\n",
    "idade,gênero,imc,filhos,fumante,região,encargos\n",
    "56,feminino,29.774373714007336,2,sim,sudoeste,31109.889763423336\n",
    "46,masculino,25.857394655216346,1,não,nordeste,26650.702646642694\n",
    "32,masculino,23.014839993647488,0,não,sudoeste,21459.03799039332"
   ]
  },
  {
   "cell_type": "markdown",
   "metadata": {
    "application/vnd.databricks.v1+cell": {
     "cellMetadata": {},
     "inputWidgets": {},
     "nuid": "db322907-12da-44fa-8888-3480a675a8f0",
     "showTitle": false,
     "title": ""
    }
   },
   "source": [
    "## Requisito para entrega\n",
    "\n",
    "Apresentar resultados visuais, como gáficos de previsões vs. valores reais.\n",
    "\n",
    "Relatório elabora que incua uma análise dos resultados, insights obtidos e validação estatística."
   ]
  },
  {
   "cell_type": "markdown",
   "metadata": {
    "application/vnd.databricks.v1+cell": {
     "cellMetadata": {
      "byteLimit": 2048000,
      "rowLimit": 10000
     },
     "inputWidgets": {},
     "nuid": "f839c08f-5f68-4f6e-8102-9d10676c6c21",
     "showTitle": false,
     "title": ""
    }
   },
   "source": [
    "#### Importação das bibliotecas necessarias"
   ]
  },
  {
   "cell_type": "code",
   "execution_count": 0,
   "metadata": {
    "application/vnd.databricks.v1+cell": {
     "cellMetadata": {
      "byteLimit": 2048000,
      "rowLimit": 10000
     },
     "inputWidgets": {},
     "nuid": "a134e999-b2d3-41c0-bbf7-9fb146aecf0c",
     "showTitle": false,
     "title": ""
    }
   },
   "outputs": [
    {
     "output_type": "stream",
     "name": "stdout",
     "output_type": "stream",
     "text": [
      "Requirement already satisfied: pandas in /databricks/python3/lib/python3.9/site-packages (1.4.2)\r\nRequirement already satisfied: numpy in /databricks/python3/lib/python3.9/site-packages (1.21.5)\r\nRequirement already satisfied: faker in /local_disk0/.ephemeral_nfs/envs/pythonEnv-9d6dd681-336a-46a0-96e4-dbcf2b5e390a/lib/python3.9/site-packages (27.0.0)\r\nRequirement already satisfied: scikit-learn in /databricks/python3/lib/python3.9/site-packages (1.0.2)\r\nRequirement already satisfied: pyarrow in /databricks/python3/lib/python3.9/site-packages (7.0.0)\r\nRequirement already satisfied: statsmodels in /databricks/python3/lib/python3.9/site-packages (0.13.2)\r\nRequirement already satisfied: python-dateutil>=2.8.1 in /databricks/python3/lib/python3.9/site-packages (from pandas) (2.8.2)\r\nRequirement already satisfied: pytz>=2020.1 in /databricks/python3/lib/python3.9/site-packages (from pandas) (2021.3)\r\nRequirement already satisfied: joblib>=0.11 in /databricks/python3/lib/python3.9/site-packages (from scikit-learn) (1.1.1)\r\nRequirement already satisfied: scipy>=1.1.0 in /databricks/python3/lib/python3.9/site-packages (from scikit-learn) (1.7.3)\r\nRequirement already satisfied: threadpoolctl>=2.0.0 in /databricks/python3/lib/python3.9/site-packages (from scikit-learn) (2.2.0)\r\nRequirement already satisfied: patsy>=0.5.2 in /databricks/python3/lib/python3.9/site-packages (from statsmodels) (0.5.2)\r\nRequirement already satisfied: packaging>=21.3 in /databricks/python3/lib/python3.9/site-packages (from statsmodels) (21.3)\r\nRequirement already satisfied: pyparsing!=3.0.5,>=2.0.2 in /databricks/python3/lib/python3.9/site-packages (from packaging>=21.3->statsmodels) (3.0.4)\r\nRequirement already satisfied: six in /databricks/python3/lib/python3.9/site-packages (from patsy>=0.5.2->statsmodels) (1.16.0)\r\n\u001B[33mWARNING: You are using pip version 21.2.4; however, version 24.2 is available.\r\nYou should consider upgrading via the '/local_disk0/.ephemeral_nfs/envs/pythonEnv-9d6dd681-336a-46a0-96e4-dbcf2b5e390a/bin/python -m pip install --upgrade pip' command.\u001B[0m\r\n"
     ]
    }
   ],
   "source": [
    "!pip install pandas numpy faker scikit-learn pyarrow statsmodels\n",
    "\n",
    "from faker import Faker\n",
    "import pandas as pd\n",
    "import numpy as np\n",
    "from sklearn.preprocessing import LabelEncoder\n",
    "from sklearn.model_selection import train_test_split\n",
    "from sklearn.linear_model import LinearRegression\n",
    "from sklearn.metrics import mean_squared_error, r2_score\n",
    "import statsmodels.api as sm\n",
    "import matplotlib.pyplot as plt"
   ]
  },
  {
   "cell_type": "markdown",
   "metadata": {
    "application/vnd.databricks.v1+cell": {
     "cellMetadata": {
      "byteLimit": 2048000,
      "rowLimit": 10000
     },
     "inputWidgets": {},
     "nuid": "59294cd3-737c-42f0-9048-98dd6a47e6f6",
     "showTitle": false,
     "title": ""
    }
   },
   "source": [
    "#### Geração de Dados com Faker\n"
   ]
  },
  {
   "cell_type": "code",
   "execution_count": 0,
   "metadata": {
    "application/vnd.databricks.v1+cell": {
     "cellMetadata": {
      "byteLimit": 2048000,
      "rowLimit": 10000
     },
     "inputWidgets": {},
     "nuid": "dc27206c-3759-412c-82eb-401d02e96652",
     "showTitle": false,
     "title": ""
    }
   },
   "outputs": [],
   "source": [
    "fake = Faker()\n",
    "regions = ['nordeste', 'sudeste', 'noroeste', 'sudoeste']\n",
    "\n",
    "def generate_better_data(num_samples):\n",
    "    data = []\n",
    "    for _ in range(num_samples):\n",
    "        age = np.random.randint(18, 80)\n",
    "        gender = np.random.choice(['masculino', 'feminino'])\n",
    "        bmi = np.random.uniform(15, 40)\n",
    "        children = np.random.randint(0, 5)\n",
    "        smoker = np.random.choice(['sim', 'não'])\n",
    "        region = np.random.choice(regions)\n",
    "        # Gerar encargos baseados em uma fórmula que depende de outras variáveis\n",
    "        charges = (250 * age) + (3000 if gender == 'feminino' else 2000) + (bmi * 400) + (1000 * children) + (20000 if smoker == 'sim' else 0) + np.random.uniform(-5000, 5000)\n",
    "        data.append([age, gender, bmi, children, smoker, region, charges])\n",
    "    return pd.DataFrame(data, columns=['idade', 'gênero', 'imc', 'filhos', 'fumante', 'região', 'encargos'])"
   ]
  },
  {
   "cell_type": "markdown",
   "metadata": {
    "application/vnd.databricks.v1+cell": {
     "cellMetadata": {
      "byteLimit": 2048000,
      "rowLimit": 10000
     },
     "inputWidgets": {},
     "nuid": "188731a7-1d3a-4f48-950b-fb12e3c9534f",
     "showTitle": false,
     "title": ""
    }
   },
   "source": [
    "#### Gerando e definindo dados"
   ]
  },
  {
   "cell_type": "code",
   "execution_count": 0,
   "metadata": {
    "application/vnd.databricks.v1+cell": {
     "cellMetadata": {
      "byteLimit": 2048000,
      "rowLimit": 10000
     },
     "inputWidgets": {},
     "nuid": "c5fa1c1c-592f-4058-b62b-e9b44c108566",
     "showTitle": false,
     "title": ""
    }
   },
   "outputs": [],
   "source": [
    "df = generate_better_data(1000)\n",
    "\n",
    "df.to_parquet('/tmp/medical_costs.parquet')"
   ]
  },
  {
   "cell_type": "markdown",
   "metadata": {
    "application/vnd.databricks.v1+cell": {
     "cellMetadata": {
      "byteLimit": 2048000,
      "rowLimit": 10000
     },
     "inputWidgets": {},
     "nuid": "ae8d2610-bb5f-4127-a2c1-4aa1454572ec",
     "showTitle": false,
     "title": ""
    }
   },
   "source": [
    "# Exploração dos Dados"
   ]
  },
  {
   "cell_type": "code",
   "execution_count": 0,
   "metadata": {
    "application/vnd.databricks.v1+cell": {
     "cellMetadata": {
      "byteLimit": 2048000,
      "rowLimit": 10000
     },
     "inputWidgets": {},
     "nuid": "72895058-7c24-4cf4-acba-586d37ba923c",
     "showTitle": false,
     "title": ""
    }
   },
   "outputs": [
    {
     "output_type": "display_data",
     "data": {
      "text/html": [
       "<div>\n",
       "<style scoped>\n",
       "    .dataframe tbody tr th:only-of-type {\n",
       "        vertical-align: middle;\n",
       "    }\n",
       "\n",
       "    .dataframe tbody tr th {\n",
       "        vertical-align: top;\n",
       "    }\n",
       "\n",
       "    .dataframe thead th {\n",
       "        text-align: right;\n",
       "    }\n",
       "</style>\n",
       "<table border=\"1\" class=\"dataframe\">\n",
       "  <thead>\n",
       "    <tr style=\"text-align: right;\">\n",
       "      <th></th>\n",
       "      <th>idade</th>\n",
       "      <th>imc</th>\n",
       "      <th>filhos</th>\n",
       "      <th>encargos</th>\n",
       "    </tr>\n",
       "  </thead>\n",
       "  <tbody>\n",
       "    <tr>\n",
       "      <th>count</th>\n",
       "      <td>1000.000000</td>\n",
       "      <td>1000.000000</td>\n",
       "      <td>1000.000000</td>\n",
       "      <td>1000.000000</td>\n",
       "    </tr>\n",
       "    <tr>\n",
       "      <th>mean</th>\n",
       "      <td>48.211000</td>\n",
       "      <td>27.473017</td>\n",
       "      <td>2.055000</td>\n",
       "      <td>37238.791723</td>\n",
       "    </tr>\n",
       "    <tr>\n",
       "      <th>std</th>\n",
       "      <td>17.839752</td>\n",
       "      <td>7.306922</td>\n",
       "      <td>1.410661</td>\n",
       "      <td>11844.166231</td>\n",
       "    </tr>\n",
       "    <tr>\n",
       "      <th>min</th>\n",
       "      <td>18.000000</td>\n",
       "      <td>15.032692</td>\n",
       "      <td>0.000000</td>\n",
       "      <td>11391.105466</td>\n",
       "    </tr>\n",
       "    <tr>\n",
       "      <th>25%</th>\n",
       "      <td>32.000000</td>\n",
       "      <td>20.958743</td>\n",
       "      <td>1.000000</td>\n",
       "      <td>27155.829700</td>\n",
       "    </tr>\n",
       "    <tr>\n",
       "      <th>50%</th>\n",
       "      <td>48.500000</td>\n",
       "      <td>27.343213</td>\n",
       "      <td>2.000000</td>\n",
       "      <td>36452.328809</td>\n",
       "    </tr>\n",
       "    <tr>\n",
       "      <th>75%</th>\n",
       "      <td>63.000000</td>\n",
       "      <td>33.741629</td>\n",
       "      <td>3.000000</td>\n",
       "      <td>47563.574453</td>\n",
       "    </tr>\n",
       "    <tr>\n",
       "      <th>max</th>\n",
       "      <td>79.000000</td>\n",
       "      <td>39.996918</td>\n",
       "      <td>4.000000</td>\n",
       "      <td>64875.756199</td>\n",
       "    </tr>\n",
       "  </tbody>\n",
       "</table>\n",
       "</div>"
      ]
     },
     "metadata": {
      "application/vnd.databricks.v1+output": {
       "addedWidgets": {},
       "arguments": {},
       "data": "<div>\n<style scoped>\n    .dataframe tbody tr th:only-of-type {\n        vertical-align: middle;\n    }\n\n    .dataframe tbody tr th {\n        vertical-align: top;\n    }\n\n    .dataframe thead th {\n        text-align: right;\n    }\n</style>\n<table border=\"1\" class=\"dataframe\">\n  <thead>\n    <tr style=\"text-align: right;\">\n      <th></th>\n      <th>idade</th>\n      <th>imc</th>\n      <th>filhos</th>\n      <th>encargos</th>\n    </tr>\n  </thead>\n  <tbody>\n    <tr>\n      <th>count</th>\n      <td>1000.000000</td>\n      <td>1000.000000</td>\n      <td>1000.000000</td>\n      <td>1000.000000</td>\n    </tr>\n    <tr>\n      <th>mean</th>\n      <td>48.211000</td>\n      <td>27.473017</td>\n      <td>2.055000</td>\n      <td>37238.791723</td>\n    </tr>\n    <tr>\n      <th>std</th>\n      <td>17.839752</td>\n      <td>7.306922</td>\n      <td>1.410661</td>\n      <td>11844.166231</td>\n    </tr>\n    <tr>\n      <th>min</th>\n      <td>18.000000</td>\n      <td>15.032692</td>\n      <td>0.000000</td>\n      <td>11391.105466</td>\n    </tr>\n    <tr>\n      <th>25%</th>\n      <td>32.000000</td>\n      <td>20.958743</td>\n      <td>1.000000</td>\n      <td>27155.829700</td>\n    </tr>\n    <tr>\n      <th>50%</th>\n      <td>48.500000</td>\n      <td>27.343213</td>\n      <td>2.000000</td>\n      <td>36452.328809</td>\n    </tr>\n    <tr>\n      <th>75%</th>\n      <td>63.000000</td>\n      <td>33.741629</td>\n      <td>3.000000</td>\n      <td>47563.574453</td>\n    </tr>\n    <tr>\n      <th>max</th>\n      <td>79.000000</td>\n      <td>39.996918</td>\n      <td>4.000000</td>\n      <td>64875.756199</td>\n    </tr>\n  </tbody>\n</table>\n</div>",
       "datasetInfos": [],
       "metadata": {},
       "removedWidgets": [],
       "textData": null,
       "type": "htmlSandbox"
      }
     },
     "output_type": "display_data"
    }
   ],
   "source": [
    "df = pd.read_parquet('/tmp/medical_costs.parquet')\n",
    "df.head()\n",
    "df.describe()"
   ]
  },
  {
   "cell_type": "markdown",
   "metadata": {
    "application/vnd.databricks.v1+cell": {
     "cellMetadata": {
      "byteLimit": 2048000,
      "rowLimit": 10000
     },
     "inputWidgets": {},
     "nuid": "46ff0386-c1cb-4f1c-8f51-1cd7b34bce98",
     "showTitle": false,
     "title": ""
    }
   },
   "source": [
    "#### Analisando as distribuições"
   ]
  },
  {
   "cell_type": "code",
   "execution_count": 0,
   "metadata": {
    "application/vnd.databricks.v1+cell": {
     "cellMetadata": {
      "byteLimit": 2048000,
      "rowLimit": 10000
     },
     "inputWidgets": {},
     "nuid": "13de0036-a2b0-46e5-bd84-b6d35a844cba",
     "showTitle": false,
     "title": ""
    }
   },
   "outputs": [
    {
     "output_type": "display_data",
     "data": {
      "image/png": "[encoded data removed]"
     },
     "metadata": {
      "application/vnd.databricks.v1+output": {
       "addedWidgets": {},
       "arguments": {},
       "data": "data:image/png;base64,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\n",
       "datasetInfos": [],
       "metadata": {},
       "removedWidgets": [],
       "type": "image"
      }
     },
     "output_type": "display_data"
    }
   ],
   "source": [
    "df[['idade', 'imc', 'encargos']].hist(bins=30, figsize=(10, 8))\n",
    "plt.show()"
   ]
  },
  {
   "cell_type": "markdown",
   "metadata": {
    "application/vnd.databricks.v1+cell": {
     "cellMetadata": {
      "byteLimit": 2048000,
      "rowLimit": 10000
     },
     "inputWidgets": {},
     "nuid": "3c50bd33-a68a-4de6-92ee-d66022f884c5",
     "showTitle": false,
     "title": ""
    }
   },
   "source": [
    "# Pré-processamento de Dados"
   ]
  },
  {
   "cell_type": "code",
   "execution_count": 0,
   "metadata": {
    "application/vnd.databricks.v1+cell": {
     "cellMetadata": {
      "byteLimit": 2048000,
      "rowLimit": 10000
     },
     "inputWidgets": {},
     "nuid": "39bc5fcd-5fea-48c6-99ca-974ee5f8f0a5",
     "showTitle": false,
     "title": ""
    }
   },
   "outputs": [],
   "source": [
    "label_encoders = {}\n",
    "for column in ['gênero', 'fumante', 'região']:\n",
    "    le = LabelEncoder()\n",
    "    df[column] = le.fit_transform(df[column])\n",
    "    label_encoders[column] = le\n",
    "\n",
    "X = df.drop('encargos', axis=1)\n",
    "y = df['encargos']"
   ]
  },
  {
   "cell_type": "markdown",
   "metadata": {
    "application/vnd.databricks.v1+cell": {
     "cellMetadata": {
      "byteLimit": 2048000,
      "rowLimit": 10000
     },
     "inputWidgets": {},
     "nuid": "ecf19ff8-1953-4d28-a56a-b0fdcfdddcbd",
     "showTitle": false,
     "title": ""
    }
   },
   "source": [
    "# Modelagem"
   ]
  },
  {
   "cell_type": "code",
   "execution_count": 0,
   "metadata": {
    "application/vnd.databricks.v1+cell": {
     "cellMetadata": {
      "byteLimit": 2048000,
      "rowLimit": 10000
     },
     "inputWidgets": {},
     "nuid": "598f5a47-70da-485a-849d-e6732b43e42c",
     "showTitle": false,
     "title": ""
    }
   },
   "outputs": [],
   "source": [
    "X_train, X_test, y_train, y_test = train_test_split(X, y, test_size=0.2, random_state=42)\n",
    "model = LinearRegression()\n",
    "model.fit(X_train, y_train)\n",
    "y_pred = model.predict(X_test)"
   ]
  },
  {
   "cell_type": "markdown",
   "metadata": {
    "application/vnd.databricks.v1+cell": {
     "cellMetadata": {
      "byteLimit": 2048000,
      "rowLimit": 10000
     },
     "inputWidgets": {},
     "nuid": "c4ccf425-2d7a-4819-9057-4d723864cf15",
     "showTitle": false,
     "title": ""
    }
   },
   "source": [
    "# Avaliação do Modelo"
   ]
  },
  {
   "cell_type": "code",
   "execution_count": 0,
   "metadata": {
    "application/vnd.databricks.v1+cell": {
     "cellMetadata": {
      "byteLimit": 2048000,
      "rowLimit": 10000
     },
     "inputWidgets": {},
     "nuid": "0e4bab0e-2196-4dc4-a0bb-b6ffcc4933d3",
     "showTitle": false,
     "title": ""
    }
   },
   "outputs": [
    {
     "output_type": "stream",
     "name": "stdout",
     "output_type": "stream",
     "text": [
      "Mean Squared Error: 7585993.377108264\nR^2 Score: 0.9477191162576953\n"
     ]
    }
   ],
   "source": [
    "mse = mean_squared_error(y_test, y_pred)\n",
    "r2 = r2_score(y_test, y_pred)\n",
    "print(f'Mean Squared Error: {mse}')\n",
    "print(f'R^2 Score: {r2}')"
   ]
  },
  {
   "cell_type": "markdown",
   "metadata": {
    "application/vnd.databricks.v1+cell": {
     "cellMetadata": {
      "byteLimit": 2048000,
      "rowLimit": 10000
     },
     "inputWidgets": {},
     "nuid": "66f77bb4-cd9e-4272-96f4-0225aaf297ef",
     "showTitle": false,
     "title": ""
    }
   },
   "source": [
    "# Validação Estatística"
   ]
  },
  {
   "cell_type": "code",
   "execution_count": 0,
   "metadata": {
    "application/vnd.databricks.v1+cell": {
     "cellMetadata": {
      "byteLimit": 2048000,
      "rowLimit": 10000
     },
     "inputWidgets": {},
     "nuid": "5dc1d421-a32f-40ea-8364-dcb71759257e",
     "showTitle": false,
     "title": ""
    }
   },
   "outputs": [
    {
     "output_type": "stream",
     "name": "stdout",
     "output_type": "stream",
     "text": [
      "                            OLS Regression Results                            \n==============================================================================\nDep. Variable:               encargos   R-squared:                       0.942\nModel:                            OLS   Adj. R-squared:                  0.942\nMethod:                 Least Squares   F-statistic:                     2153.\nDate:                Tue, 13 Aug 2024   Prob (F-statistic):               0.00\nTime:                        10:45:40   Log-Likelihood:                -7493.6\nNo. Observations:                 800   AIC:                         1.500e+04\nDf Residuals:                     793   BIC:                         1.503e+04\nDf Model:                           6                                         \nCovariance Type:            nonrobust                                         \n==============================================================================\n                 coef    std err          t      P>|t|      [0.025      0.975]\n------------------------------------------------------------------------------\nconst       3781.8416    535.974      7.056      0.000    2729.746    4833.937\nidade        244.9368      5.711     42.887      0.000     233.726     256.148\ngênero     -1131.0464    201.583     -5.611      0.000   -1526.747    -735.346\nimc          379.5174     13.792     27.517      0.000     352.444     406.591\nfilhos      1046.6810     71.277     14.685      0.000     906.767    1186.595\nfumante         2e+04    201.425     99.284      0.000    1.96e+04    2.04e+04\nregião       -36.1027     89.556     -0.403      0.687    -211.898     139.693\n==============================================================================\nOmnibus:                      348.655   Durbin-Watson:                   2.027\nProb(Omnibus):                  0.000   Jarque-Bera (JB):               42.615\nSkew:                          -0.012   Prob(JB):                     5.57e-10\nKurtosis:                       1.870   Cond. No.                         311.\n==============================================================================\n\nNotes:\n[1] Standard Errors assume that the covariance matrix of the errors is correctly specified.\n"
     ]
    }
   ],
   "source": [
    "X_train_sm = sm.add_constant(X_train)\n",
    "model_sm = sm.OLS(y_train, X_train_sm)\n",
    "results = model_sm.fit()\n",
    "print(results.summary())"
   ]
  },
  {
   "cell_type": "markdown",
   "metadata": {
    "application/vnd.databricks.v1+cell": {
     "cellMetadata": {
      "byteLimit": 2048000,
      "rowLimit": 10000
     },
     "inputWidgets": {},
     "nuid": "294e31da-c85e-4327-99e2-b0c9529cc6ed",
     "showTitle": false,
     "title": ""
    }
   },
   "source": [
    "# Previsão com Características Específicas"
   ]
  },
  {
   "cell_type": "code",
   "execution_count": 0,
   "metadata": {
    "application/vnd.databricks.v1+cell": {
     "cellMetadata": {
      "byteLimit": 2048000,
      "rowLimit": 10000
     },
     "inputWidgets": {},
     "nuid": "e23b0494-68fa-45ec-8738-68c9d8509947",
     "showTitle": false,
     "title": ""
    }
   },
   "outputs": [
    {
     "output_type": "stream",
     "name": "stdout",
     "output_type": "stream",
     "text": [
      "   idade  gênero   imc  filhos  fumante  região\n0     45       1  24.5       2        0       2\nO custo médico previsto é: R$ 24992.28\n"
     ]
    }
   ],
   "source": [
    "\n",
    "individual = {\n",
    "    'idade': 45,\n",
    "    'gênero': 'masculino',\n",
    "    'imc': 24.5,\n",
    "    'filhos': 2,\n",
    "    'fumante': 'não',\n",
    "    'região': 'sudeste'\n",
    "}\n",
    "\n",
    "for column in ['gênero', 'fumante', 'região']:\n",
    "    individual[column] = label_encoders[column].transform([individual[column]])[0]\n",
    "\n",
    "individual_df = pd.DataFrame([individual])\n",
    "print(individual_df)\n",
    "\n",
    "predicted_cost = model.predict(individual_df)\n",
    "print(f'O custo médico previsto é: R$ {predicted_cost[0]:.2f}')"
   ]
  },
  {
   "cell_type": "markdown",
   "metadata": {
    "application/vnd.databricks.v1+cell": {
     "cellMetadata": {
      "byteLimit": 2048000,
      "rowLimit": 10000
     },
     "inputWidgets": {},
     "nuid": "7f8c3a25-17f4-43ab-b67f-61846a1b3d34",
     "showTitle": false,
     "title": ""
    }
   },
   "source": [
    "# Gráficos de Previsões vs. Valores Reais"
   ]
  },
  {
   "cell_type": "code",
   "execution_count": 0,
   "metadata": {
    "application/vnd.databricks.v1+cell": {
     "cellMetadata": {
      "byteLimit": 2048000,
      "rowLimit": 10000
     },
     "inputWidgets": {},
     "nuid": "b59ddb91-059c-4abb-a4ac-1870fd45e548",
     "showTitle": false,
     "title": ""
    }
   },
   "outputs": [
    {
     "output_type": "display_data",
     "data": {
      "image/png": "[encoded data removed]"
     },
     "metadata": {
      "application/vnd.databricks.v1+output": {
       "addedWidgets": {},
       "arguments": {},
       "data": "data:image/png;base64,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\n",
       "datasetInfos": [],
       "metadata": {},
       "removedWidgets": [],
       "type": "image"
      }
     },
     "output_type": "display_data"
    }
   ],
   "source": [
    "import matplotlib.pyplot as plt\n",
    "\n",
    "# Plotando Previsões vs. Valores Reais\n",
    "plt.figure(figsize=(10, 6))\n",
    "plt.scatter(y_test, y_pred, alpha=0.3)\n",
    "plt.plot([y_test.min(), y_test.max()], [y_test.min(), y_test.max()], linestyle='--', color='red', lw=2)\n",
    "plt.xlabel('Valores Reais')\n",
    "plt.ylabel('Previsões')\n",
    "plt.title('Previsões vs. Valores Reais')\n",
    "plt.show()"
   ]
  },
  {
   "cell_type": "code",
   "execution_count": 0,
   "metadata": {
    "application/vnd.databricks.v1+cell": {
     "cellMetadata": {
      "byteLimit": 2048000,
      "rowLimit": 10000
     },
     "inputWidgets": {},
     "nuid": "b8a460cf-f59f-40b6-98e6-fc61a35c7697",
     "showTitle": false,
     "title": ""
    }
   },
   "outputs": [
    {
     "output_type": "display_data",
     "data": {
      "image/png": "[encoded data removed]"
     },
     "metadata": {
      "application/vnd.databricks.v1+output": {
       "addedWidgets": {},
       "arguments": {},
       "data": "data:image/png;base64,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\n",
       "datasetInfos": [],
       "metadata": {},
       "removedWidgets": [],
       "type": "image"
      }
     },
     "output_type": "display_data"
    }
   ],
   "source": [
    "# Plotando Resíduos\n",
    "residuals = y_test - y_pred\n",
    "plt.figure(figsize=(10, 6))\n",
    "plt.hist(residuals, bins=50, edgecolor='k', alpha=0.7)\n",
    "plt.xlabel('Resíduos (Valores Reais - Previsões)')\n",
    "plt.ylabel('Frequência')\n",
    "plt.title('Distribuição dos Resíduos')\n",
    "plt.show()"
   ]
  },
  {
   "cell_type": "markdown",
   "metadata": {
    "application/vnd.databricks.v1+cell": {
     "cellMetadata": {
      "byteLimit": 2048000,
      "rowLimit": 10000
     },
     "inputWidgets": {},
     "nuid": "f4854eb8-57fd-43e7-af72-204ecb4db2a2",
     "showTitle": false,
     "title": ""
    }
   },
   "source": [
    "\n",
    "#### Insights Obtidos\n",
    "\n",
    "- Influência das Variáveis: A validação estatística sugere que variáveis como idade, IMC (índice de massa corporal), e status de fumante têm impacto significativo nos custos médicos. O modelo consegue capturar essas relações e usar essas informações para prever os custos com uma precisão razoável.\n",
    "- Variabilidade dos Dados: A presença de outliers nos resíduos sugere que há fatores adicionais que poderiam estar influenciando os custos médicos e que não foram incluídos no modelo. Por exemplo, condições de saúde pré-existentes, histórico familiar, ou nível de atividade física poderiam ser fatores importantes a considerar em análises futuras.\n",
    "\n",
    "#### Validação Estatística\n",
    "\n",
    "- Análise de Regressão: A validação estatística usando a função OLS do statsmodels indica que a maioria das variáveis no modelo são estatisticamente significativas com p-values baixos, sugerindo que há uma relação substancial entre as características e os custos médicos.\n",
    "- Assumptions of Linearity: A linearidade entre as variáveis independentes e o custo foi assumida, e a análise dos resíduos sugere que essa suposição é razoável, mas não perfeita. Modelos não lineares poderiam ser explorados para capturar padrões mais complexos nos dados."
   ]
  },
  {
   "cell_type": "code",
   "execution_count": 0,
   "metadata": {
    "application/vnd.databricks.v1+cell": {
     "cellMetadata": {
      "byteLimit": 2048000,
      "rowLimit": 10000
     },
     "inputWidgets": {},
     "nuid": "3a869324-cf57-447c-b9aa-a51bf0dd2b3f",
     "showTitle": false,
     "title": ""
    }
   },
   "outputs": [],
   "source": []
  }
 ],
 "metadata": {
  "application/vnd.databricks.v1+notebook": {
   "dashboards": [],
   "environmentMetadata": null,
   "language": "python",
   "notebookMetadata": {
    "pythonIndentUnit": 2
   },
   "notebookName": "Tech_Challenge_POS_TECH V2",
   "widgets": {}
  }
 },
 "nbformat": 4,
 "nbformat_minor": 0
}
